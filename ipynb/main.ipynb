{
 "cells": [
  {
   "cell_type": "code",
   "execution_count": 9,
   "id": "62b56efd",
   "metadata": {},
   "outputs": [],
   "source": [
    "import game_build as b"
   ]
  },
  {
   "cell_type": "code",
   "execution_count": 8,
   "id": "6137542e",
   "metadata": {},
   "outputs": [
    {
     "name": "stdout",
     "output_type": "stream",
     "text": [
      "Game Start!\n",
      "-------------------------\n",
      "|     |     |     |     |\n",
      "-------------------------\n",
      "|     |     |     |     |\n",
      "-------------------------\n",
      "|    2|     |     |    2|\n",
      "-------------------------\n",
      "|     |     |     |     |\n",
      "-------------------------\n",
      "Your next move: w\n",
      "-------------------------\n",
      "|    2|     |     |    2|\n",
      "-------------------------\n",
      "|     |     |     |    2|\n",
      "-------------------------\n",
      "|     |     |     |     |\n",
      "-------------------------\n",
      "|     |     |     |     |\n",
      "-------------------------\n",
      "Your next move: d\n",
      "-------------------------\n",
      "|     |     |     |    4|\n",
      "-------------------------\n",
      "|     |     |     |    2|\n",
      "-------------------------\n",
      "|     |     |     |     |\n",
      "-------------------------\n",
      "|     |    2|     |     |\n",
      "-------------------------\n",
      "Your next move: d\n",
      "-------------------------\n",
      "|     |     |     |    4|\n",
      "-------------------------\n",
      "|     |     |    2|    2|\n",
      "-------------------------\n",
      "|     |     |     |     |\n",
      "-------------------------\n",
      "|     |     |     |    2|\n",
      "-------------------------\n",
      "Your next move: d\n",
      "-------------------------\n",
      "|     |     |    2|    4|\n",
      "-------------------------\n",
      "|     |     |     |    4|\n",
      "-------------------------\n",
      "|     |     |     |     |\n",
      "-------------------------\n",
      "|     |     |     |    2|\n",
      "-------------------------\n",
      "Your next move: e\n"
     ]
    }
   ],
   "source": [
    "g=b.game2048()\n",
    "g.start_game()"
   ]
  },
  {
   "cell_type": "code",
   "execution_count": null,
   "id": "3794fe8d",
   "metadata": {},
   "outputs": [],
   "source": []
  }
 ],
 "metadata": {
  "kernelspec": {
   "display_name": "Python 3 (ipykernel)",
   "language": "python",
   "name": "python3"
  },
  "language_info": {
   "codemirror_mode": {
    "name": "ipython",
    "version": 3
   },
   "file_extension": ".py",
   "mimetype": "text/x-python",
   "name": "python",
   "nbconvert_exporter": "python",
   "pygments_lexer": "ipython3",
   "version": "3.9.12"
  }
 },
 "nbformat": 4,
 "nbformat_minor": 5
}
